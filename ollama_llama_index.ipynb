{
 "cells": [
  {
   "cell_type": "code",
   "execution_count": 46,
   "id": "cf5849f1-9fa5-4d07-8eee-fb31ce23b1a7",
   "metadata": {},
   "outputs": [
    {
     "name": "stdout",
     "output_type": "stream",
     "text": [
      "\n",
      "     active environment : run_models\n",
      "    active env location : C:\\Users\\mm507t\\AppData\\Local\\anaconda3\\envs\\run_models\n",
      "            shell level : 1\n",
      "       user config file : C:\\Users\\mm507t\\.condarc\n",
      " populated config files : C:\\Users\\mm507t\\.condarc\n",
      "          conda version : 24.1.2\n",
      "    conda-build version : 24.1.2\n",
      "         python version : 3.11.7.final.0\n",
      "                 solver : libmamba (default)\n",
      "       virtual packages : __archspec=1=x86_64\n",
      "                          __conda=24.1.2=0\n",
      "                          __cuda=12.4=0\n",
      "                          __win=0=0\n",
      "       base environment : C:\\Users\\mm507t\\AppData\\Local\\anaconda3  (writable)\n",
      "      conda av data dir : C:\\Users\\mm507t\\AppData\\Local\\anaconda3\\etc\\conda\n",
      "  conda av metadata url : None\n",
      "           channel URLs : https://repo.anaconda.com/pkgs/main/win-64\n",
      "                          https://repo.anaconda.com/pkgs/main/noarch\n",
      "                          https://repo.anaconda.com/pkgs/r/win-64\n",
      "                          https://repo.anaconda.com/pkgs/r/noarch\n",
      "                          https://repo.anaconda.com/pkgs/msys2/win-64\n",
      "                          https://repo.anaconda.com/pkgs/msys2/noarch\n",
      "          package cache : C:\\Users\\mm507t\\AppData\\Local\\anaconda3\\pkgs\n",
      "                          C:\\Users\\mm507t\\.conda\\pkgs\n",
      "                          C:\\Users\\mm507t\\AppData\\Local\\conda\\conda\\pkgs\n",
      "       envs directories : C:\\Users\\mm507t\\AppData\\Local\\anaconda3\\envs\n",
      "                          C:\\Users\\mm507t\\.conda\\envs\n",
      "                          C:\\Users\\mm507t\\AppData\\Local\\conda\\conda\\envs\n",
      "               platform : win-64\n",
      "             user-agent : conda/24.1.2 requests/2.31.0 CPython/3.11.7 Windows/10 Windows/10.0.19045 solver/libmamba conda-libmamba-solver/24.1.0 libmambapy/1.5.6 aau/0.4.3 c/rXDAcvhqU1-ViwNHsnuKgQ s/GlCOdzvZaM9B4NVIgzUKdQ e/_-OTkZO-v3U1zn15E49jYg\n",
      "          administrator : False\n",
      "             netrc file : None\n",
      "           offline mode : False\n",
      "\n",
      "\n"
     ]
    }
   ],
   "source": [
    "!conda info"
   ]
  },
  {
   "cell_type": "code",
   "execution_count": 2,
   "id": "5ac6b761-5717-4679-a509-ec4230843f75",
   "metadata": {},
   "outputs": [
    {
     "name": "stderr",
     "output_type": "stream",
     "text": [
      "C:\\Users\\mm507t\\AppData\\Local\\anaconda3\\envs\\run_models\\Lib\\site-packages\\tqdm\\auto.py:21: TqdmWarning: IProgress not found. Please update jupyter and ipywidgets. See https://ipywidgets.readthedocs.io/en/stable/user_install.html\n",
      "  from .autonotebook import tqdm as notebook_tqdm\n"
     ]
    }
   ],
   "source": [
    "import os\n",
    "from typing import Dict, List\n",
    "import chromadb\n",
    "import yaml\n",
    "import chainlit as cl\n",
    "\n",
    "from llama_index.core.callbacks.base import CallbackManager\n",
    "from llama_index.llms.ollama import Ollama\n",
    "from llama_index.embeddings.huggingface import HuggingFaceEmbedding\n",
    "from llama_index.vector_stores.chroma import ChromaVectorStore\n",
    "from llama_index.core import Settings, VectorStoreIndex, StorageContext, SimpleDirectoryReader\n",
    "from llama_index.core.node_parser import TokenTextSplitter\n",
    "from llama_index.core.llms import ChatMessage"
   ]
  },
  {
   "cell_type": "code",
   "execution_count": 4,
   "id": "a801c9af-79fe-4479-9a4b-be39348c922f",
   "metadata": {},
   "outputs": [],
   "source": [
    "TV_PKL_PATH = None\n",
    "CHUNK_SIZE = None\n",
    "CHUNK_OL = None\n",
    "context_window = None\n",
    "embed_model_name = None\n",
    "nodes_path = None\n",
    "bm25_pkl = None\n",
    "persist_dir = None\n",
    "data_read_path = None\n",
    "CHUNK_SIZE = 1024\n",
    "CHUNK_OL = 50\n",
    "context_window = 5000\n",
    "# embed_model_name : \"BAAI/bge-small-en-v1.5\"\n",
    "persist_dir = \"vector_store\"\n",
    "file_paths= 'WCFData'"
   ]
  },
  {
   "cell_type": "code",
   "execution_count": 5,
   "id": "4ddad65c-9fd4-42c6-8829-d608723e84df",
   "metadata": {},
   "outputs": [],
   "source": [
    "llm = Ollama(model=\"phi3:latest\",\n",
    "              request_timeout=500.0 )\n",
    "              # context_window=context_window)\n",
    "Settings.llm = llm"
   ]
  },
  {
   "cell_type": "code",
   "execution_count": 6,
   "id": "e5436341-bc2c-4db9-b978-586a9842cd3a",
   "metadata": {},
   "outputs": [
    {
     "name": "stdout",
     "output_type": "stream",
     "text": [
      "2024-08-01 15:23:00 - Load pretrained SentenceTransformer: sartifyllc/MultiLinguSwahili-serengeti-E250-nli-matryoshka\n",
      "2024-08-01 15:23:05 - 2 prompts are loaded, with the keys: ['query', 'text']\n"
     ]
    }
   ],
   "source": [
    "embed_model_name = \"sartifyllc/MultiLinguSwahili-serengeti-E250-nli-matryoshka\"\n",
    "truncate_dim = 64\n",
    "Settings.embed_model = HuggingFaceEmbedding(model_name=embed_model_name)"
   ]
  },
  {
   "cell_type": "code",
   "execution_count": 7,
   "id": "a9784b54-70b6-4829-81b4-41ed37e5fe81",
   "metadata": {},
   "outputs": [],
   "source": [
    "Settings.context_window = context_window\n",
    "Settings.chunk_overlap = 50\n",
    "Settings.chunk_size = 1024\n",
    "Settings.node_parser = TokenTextSplitter(chunk_size=Settings.chunk_size, chunk_overlap=Settings.chunk_overlap, separator=\" \")"
   ]
  },
  {
   "cell_type": "code",
   "execution_count": 8,
   "id": "06567c76-d0e2-4fbd-a6e0-956300f10ef1",
   "metadata": {},
   "outputs": [],
   "source": [
    "def ingest_docs(input_files, storage_path=persist_dir, callback = CallbackManager()):\n",
    "    # Settings.callback_manager = callback\n",
    "    docs = SimpleDirectoryReader(input_dir=input_files).load_data()\n",
    "    if not os.path.exists(storage_path):\n",
    "        os.makedirs(storage_path)\n",
    "    db = chromadb.PersistentClient(path=storage_path)\n",
    "    chroma_collection = db.get_or_create_collection('quickstart')\n",
    "    vector_store = ChromaVectorStore(chroma_collection=chroma_collection)\n",
    "    storage_context = StorageContext.from_defaults(vector_store=vector_store)\n",
    "    vector_index = VectorStoreIndex.from_documents(documents=docs, storage_context=storage_context, embed_model= Settings.embed_model)\n",
    "    print('docs_ingested')\n",
    "    return vector_index"
   ]
  },
  {
   "cell_type": "code",
   "execution_count": 9,
   "id": "132023f4-0d9d-416b-aa3d-b189cf10c481",
   "metadata": {},
   "outputs": [],
   "source": [
    "def load_components(storage_path=persist_dir):\n",
    "    # service_context = ServiceContext.from_defaults(llm=Settings.llm, embed_model=Settings.embed_model)\n",
    "    db = chromadb.PersistentClient(path=storage_path)\n",
    "    chroma_collection = db.get_collection('quickstart')\n",
    "    vector_store = ChromaVectorStore(chroma_collection=chroma_collection)\n",
    "    index = VectorStoreIndex.from_vector_store(vector_store=vector_store)\n",
    "    # query_engine = index.as_query_engine(streaming=True, similarity_top_k=3)\n",
    "\n",
    "    return index"
   ]
  },
  {
   "cell_type": "code",
   "execution_count": 10,
   "id": "67d17c36-ee4e-4d6e-a730-85ffb7bb6d30",
   "metadata": {},
   "outputs": [
    {
     "name": "stdout",
     "output_type": "stream",
     "text": [
      "2024-08-01 15:23:07 - Anonymized telemetry enabled. See                     https://docs.trychroma.com/telemetry for more information.\n"
     ]
    },
    {
     "name": "stderr",
     "output_type": "stream",
     "text": [
      "Batches: 100%|██████████| 1/1 [00:07<00:00,  7.26s/it]\n",
      "Batches: 100%|██████████| 1/1 [00:05<00:00,  5.86s/it]\n",
      "Batches: 100%|██████████| 1/1 [00:05<00:00,  5.76s/it]\n",
      "Batches: 100%|██████████| 1/1 [00:04<00:00,  4.72s/it]\n",
      "Batches: 100%|██████████| 1/1 [00:04<00:00,  4.99s/it]\n",
      "Batches: 100%|██████████| 1/1 [00:05<00:00,  5.23s/it]\n",
      "Batches: 100%|██████████| 1/1 [00:05<00:00,  5.49s/it]\n",
      "Batches: 100%|██████████| 1/1 [00:04<00:00,  4.41s/it]\n"
     ]
    },
    {
     "name": "stdout",
     "output_type": "stream",
     "text": [
      "docs_ingested\n"
     ]
    }
   ],
   "source": [
    "index = ingest_docs(file_paths, storage_path=persist_dir)"
   ]
  },
  {
   "cell_type": "code",
   "execution_count": 11,
   "id": "9df81731-3bf3-4f0a-a0aa-37ed68aff5ca",
   "metadata": {},
   "outputs": [],
   "source": [
    "# index = load_components(persist_dir)\n",
    "query_engine = index.as_query_engine(streaming=True, similarity_top_k=3)"
   ]
  },
  {
   "cell_type": "code",
   "execution_count": 17,
   "id": "bdd092aa-1e8d-419c-82d4-474e6f20b7a5",
   "metadata": {},
   "outputs": [
    {
     "name": "stderr",
     "output_type": "stream",
     "text": [
      "Batches: 100%|██████████| 1/1 [00:00<00:00, 18.95it/s]\n"
     ]
    },
    {
     "name": "stdout",
     "output_type": "stream",
     "text": [
      "2024-08-01 15:28:18 - HTTP Request: POST http://localhost:11434/api/chat \"HTTP/1.1 200 OK\"\n",
      " Yes, there are services available in both English and Kiswahili as per the provided details.None\n"
     ]
    }
   ],
   "source": [
    "print(query_engine.query(\"Is the Medical Services Portal available in multiple languages?\").print_response_stream())"
   ]
  },
  {
   "cell_type": "code",
   "execution_count": 19,
   "id": "f022a270-6e8e-4739-86aa-b7065dc466d2",
   "metadata": {},
   "outputs": [
    {
     "name": "stderr",
     "output_type": "stream",
     "text": [
      "Batches: 100%|██████████| 1/1 [00:00<00:00, 25.49it/s]\n"
     ]
    },
    {
     "name": "stdout",
     "output_type": "stream",
     "text": [
      "2024-08-01 15:29:52 - HTTP Request: POST http://localhost:11434/api/chat \"HTTP/1.1 200 OK\"\n",
      " WCF (Workers Compensation Fund) is an organization established by law to provide insurance coverage for workers in Tanzania against work-related injuries or diseases as per Surat al Baiti [Chapter] Al Fadilah, verses 263. It was created on July 1st, 2015 following the issuance of Law No. 10/2011 by Parliament to ensure that every employee who suffers from a work-related injury or disease is compensated for their loss and medical expenses without having to prove fault against employers (Claim Review Number). WCF's aim aligns with Islamic principles, emphasizing fairness towards workers in need. The Fund operates as part of the Union Government under Section 18A(2) & B(3) of Law No.5/2016 and is an autonomous body that works independently from employers or any political groups to manage compensation for work-related injuries without bias towards different sectors, genders, religions, ethnicities, etc., ensuring fairness in its operations as stated under Section 34(d) & (e) of Law No.10/2011 and Article 67 of the constitution respectively. WCF also provides guidelines for claim review applications that are accessible through their portal at www.wcf.go.tz, with contact information provided in case further enquiries or clarifications are needed (Helpdesk@wcf.go.tz). It is mandatory to submit necessary documents and details while applying online as per the guidelines on WCF's official website for claim review applications which include mobile phone number(s) & Claim Review Number, among other required fields marked with an asterisk (mandatory).None\n"
     ]
    }
   ],
   "source": [
    "print(query_engine.query(\"Wat is WCF?\").print_response_stream())"
   ]
  },
  {
   "cell_type": "code",
   "execution_count": 45,
   "id": "12911ab2-95cc-4119-bb12-a95227cb52df",
   "metadata": {},
   "outputs": [
    {
     "name": "stdout",
     "output_type": "stream",
     "text": [
      "Running on local URL:  http://127.0.0.1:7871\n",
      "2024-08-01 16:09:39 - HTTP Request: GET http://127.0.0.1:7871/startup-events \"HTTP/1.1 200 OK\"\n",
      "2024-08-01 16:09:39 - HTTP Request: HEAD http://127.0.0.1:7871/ \"HTTP/1.1 200 OK\"\n",
      "2024-08-01 16:09:39 - HTTP Request: GET https://api.gradio.app/pkg-version \"HTTP/1.1 200 OK\"\n",
      "2024-08-01 16:09:40 - HTTP Request: GET https://api.gradio.app/v2/tunnel-request \"HTTP/1.1 200 OK\"\n",
      "2024-08-01 16:09:40 - HTTP Request: GET https://cdn-media.huggingface.co/frpc-gradio-0.2/frpc_windows_amd64.exe \"HTTP/1.1 200 OK\"\n",
      "\n",
      "Could not create share link. Please check your internet connection or our status page: https://status.gradio.app.\n"
     ]
    },
    {
     "data": {
      "text/html": [
       "<div><iframe src=\"http://127.0.0.1:7871/\" width=\"100%\" height=\"500\" allow=\"autoplay; camera; microphone; clipboard-read; clipboard-write;\" frameborder=\"0\" allowfullscreen></iframe></div>"
      ],
      "text/plain": [
       "<IPython.core.display.HTML object>"
      ]
     },
     "metadata": {},
     "output_type": "display_data"
    },
    {
     "data": {
      "text/plain": []
     },
     "execution_count": 45,
     "metadata": {},
     "output_type": "execute_result"
    },
    {
     "name": "stderr",
     "output_type": "stream",
     "text": [
      "Batches: 100%|██████████| 1/1 [00:00<00:00,  3.40it/s]\n"
     ]
    },
    {
     "name": "stdout",
     "output_type": "stream",
     "text": [
      "2024-08-01 16:10:06 - HTTP Request: POST http://localhost:11434/api/chat \"HTTP/1.1 200 OK\"\n",
      " WCF refers to an entity established in accordance with a specific section of legislation aimed at ensuring fair compensation for employees who suffer occupational injuries or contract diseases resulting from their work duties within Tanzania's public and private sectors. Its main objective is the provision of adequate benefits, such as medical aid services and payment options based on permanent or temporary disability occurrences due to employment-related incidents."
     ]
    }
   ],
   "source": [
    "import gradio as gr\n",
    "\n",
    "def query(text):\n",
    "\n",
    "    return query_engine.query(text).print_response_stream()\n",
    "\n",
    "def interface(text):\n",
    "    # z = query(text)\n",
    "\n",
    "\n",
    "    return query(text)\n",
    "\n",
    "with gr.Blocks(theme=gr.themes.Glass().set(block_title_text_color= \"black\", body_background_fill=\"black\", input_background_fill= \"black\", body_text_color=\"white\")) as demo:\n",
    "    \n",
    "    gr.Markdown(\"<style>h1 {text-align: center;display: block;}</style><h1>Worker Compensation Fund</h1>\")\n",
    "        \n",
    "    with gr.Row():\n",
    "        input_text = gr.Textbox(label='Enter your query here')\n",
    "        \n",
    "    with gr.Row():\n",
    "        output_text = gr.Textbox(label='Response')\n",
    "        \n",
    "    input_text.submit(fn=interface, inputs=input_text, outputs=output_text)\n",
    "                      \n",
    "demo.launch(share=True)"
   ]
  }
 ],
 "metadata": {
  "kernelspec": {
   "display_name": "Python 3 (ipykernel)",
   "language": "python",
   "name": "python3"
  },
  "language_info": {
   "codemirror_mode": {
    "name": "ipython",
    "version": 3
   },
   "file_extension": ".py",
   "mimetype": "text/x-python",
   "name": "python",
   "nbconvert_exporter": "python",
   "pygments_lexer": "ipython3",
   "version": "3.11.9"
  }
 },
 "nbformat": 4,
 "nbformat_minor": 5
}
